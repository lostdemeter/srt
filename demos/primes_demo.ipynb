{
  "cells": [
    {
      "cell_type": "markdown",
      "metadata": {},
      "source": [
        "# SRT Primes Demo (Small n=10^6)\\n\\n",
        "Quick test for prime detection using SRT oracle."
      ]
    },
    {
      "cell_type": "code",
      "execution_count": null,
      "metadata": {},
      "outputs": [],
      "source": [
        "import numpy as np\\n",
        "from math import log\\n",
        "import mpmath as mp\\n",
        "from multiprocessing import Pool, cpu_count\\n",
        "import math\\n",
        "import time\\n",
        "from scipy.integrate import odeint\\n",
        "from scipy.sparse.linalg import eigsh\\n",
        "from scipy.sparse import csr_matrix\\n",
        "from scipy.interpolate import interp1d\\n\\n",
        "np.random.seed(42)\\n\\n",
        "# Config for small n\\n",
        "max_num = 10**6  # Small for demo\\n",
        "HDR_M = 3\\n",
        "HDR_noise = 0.02\\n",
        "corr_weight = 0.12\\n",
        "zeta_weight = 0.05\\n",
        "zeta_zeros_count = 20\\n",
        "use_zeta = True\\n",
        "target_mode = 'p30'\\n",
        "oversample_factor = 3\\n",
        "eps = 1e-12\\n",
        "target_chunk_size = 2000\\n",
        "batch_size = 100000\\n",
        "eval_mode = True\\n",
        "use_alt = True\\n",
        "use_flow = True\\n",
        "selection_mode = 'heap'\\n",
        "memmap_path = 'scores.float32.memmap'\\n",
        "eval_skip_threshold = 10**6\\n",
        "max_scan_limit = 10_000_000\\n",
        "subsample_size = 50\\n",
        "eig_k = 30\\n\\n",
        "print(\\\"Config loaded for n=10^6\\\")"
      ]
    },
    {
      "cell_type": "code",
      "execution_count": null,
      "metadata": {},
      "outputs": [],
      "source": [
        "def prime_prob(k):\\n",
        "    if k < 2: return 0.0\\n",
        "    if k == 2: return 1.0\\n",
        "    return 2.0 / log(k)\\n\\n",
        "# Generate candidates up to max_num\\n",
        "candidates = list(range(2, max_num + 1))\\n",
        "print(f\\\"Generated {len(candidates)} candidates\\\")"
      ]
    },
    {
      "cell_type": "code",
      "execution_count": null,
      "metadata": {},
      "outputs": [],
      "source": [
        "def miller_rabin(n):\\n",
        "    n = int(n)\\n",
        "    if n < 2: return False\\n",
        "    if n in [2, 3]: return True\\n",
        "    if n % 2 == 0 or n % 3 == 0: return False\\n",
        "    r, d = 0, n - 1\\n",
        "    while d % 2 == 0:\\n",
        "        r += 1\\n",
        "        d //= 2\\n",
        "    witnesses = [2, 7, 61]  # For n < 4.759e9\\n",
        "    for a in witnesses:\\n",
        "        if a >= n: break\\n",
        "        x = pow(a, d, n)\\n",
        "        if x == 1 or x == n - 1: continue\\n",
        "        for _ in range(r - 1):\\n",
        "            x = pow(x, 2, n)\\n",
        "            if x == n - 1: break\\n",
        "        else: return False\\n",
        "    return True\\n\\n",
        "print(\\\"Miller-Rabin loaded\\\")"
      ]
    },
    {
      "cell_type": "code",
      "execution_count": null,
      "metadata": {},
      "outputs": [],
      "source": [
        "def is_prime_det(n):\\n",
        "    return miller_rabin(n)\\n\\n",
        "# Simple test\\n",
        "print(is_prime_det(13))  # True\\n",
        "print(is_prime_det(15))  # False"
      ]
    },
    {
      "cell_type": "code",
      "execution_count": null,
      "metadata": {},
      "outputs": [],
      "source": [
        "# Placeholder for full SRT flow (simplified for demo)\\n",
        "# In full script: build D_S, eigsh, flow_ode, etc.\\n",
        "# For demo, just run parallel filter on small batch\\n",
        "small_batch = candidates[:1000]\\n",
        "primes = [k for k in small_batch if is_prime_det(k)]\\n",
        "print(f\\\"Found {len(primes)} primes in first 1000 candidates\\\")\\n",
        "print(\\\"Demo complete - full run would use eigsh and flow for O(n log n) ranking\\\")"
      ]
    }
  ],
  "metadata": {
    "kernelspec": {
      "display_name": "Python 3",
      "language": "python",
      "name": "python3"
    },
    "language_info": {
      "codemirror_mode": {
        "name": "ipython",
        "version": 3
      },
      "file_extension": ".py",
      "mimetype": "text/x-python",
      "name": "python",
      "nbconvert_exporter": "python",
      "pygments_lexer": "ipython3",
      "version": "3.8.5"
    }
  },
  "nbformat": 4,
  "nbformat_minor": 4
}
