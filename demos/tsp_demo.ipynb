{
  "cells": [
    {
      "cell_type": "markdown",
      "metadata": {},
      "source": [
        "# SRT TSP Demo (Small n=10)\\n\\n",
        "Quick Euclidean TSP using SRT for proxy optimal tour."
      ]
    },
    {
      "cell_type": "code",
      "execution_count": null,
      "metadata": {},
      "outputs": [],
      "source": [
        "import numpy as np\\n",
        "import matplotlib.pyplot as plt\\n",
        "from scipy.spatial.distance import cdist\\n",
        "from scipy.sparse import csr_matrix\\n",
        "from scipy.sparse.linalg import eigsh\\n\\n",
        "np.random.seed(42)\\n\\n",
        "# Config for small n\\n",
        "n = 10  # Small cities\\n",
        "z = 0.05\\n",
        "corr = 0.12\\n",
        "HDR_M = 3\\n",
        "noise = 0.02\\n",
        "eig_k = 10  # Fewer modes\\n\\n",
        "print(f\\\"TSP for n={n} cities\\\")"
      ]
    },
    {
      "cell_type": "code",
      "execution_count": null,
      "metadata": {},
      "outputs": [],
      "source": [
        "# Generate random points\\n",
        "points = np.random.rand(n, 2) * 100\\n",
        "print(\\\"Sample points:\\\\n\\\", points[:3])"
      ]
    },
    {
      "cell_type": "code",
      "execution_count": null,
      "metadata": {},
      "outputs": [],
      "source": [
        "# Affinities: inverse distance\\n",
        "dist_matrix = cdist(points, points)\\n",
        "affinities = 1 / (dist_matrix + 1e-6)  # Avoid div0\\n",
        "np.fill_diagonal(affinities, 0)\\n",
        "print(\\\"Affinity matrix shape:\\\", affinities.shape)\\n\\n",
        "# Placeholder: Build D_S with zeta off-diagonals, alt signs\\n",
        "# Simplified: Use random correlations for demo\\n",
        "correlations = np.random.rand(n, n) * corr\\n",
        "zeta_phases = np.random.rand(n, n) * z  # Mock zeta\\n",
        "D_S = affinities + correlations * ((-1)**(np.arange(n)[:,None] + np.arange(n)[None,:]) * zeta_phases)\\n\\n",
        "print(\\\"Mock D_S built\\\")"
      ]
    },
    {
      "cell_type": "code",
      "execution_count": null,
      "metadata": {},
      "outputs": [],
      "source": [
        "# Sparse eig for top modes\\n",
        "D_sparse = csr_matrix(D_S)\\n",
        "eigenvals, eigenvecs = eigsh(D_sparse, k=eig_k, which='LM')\\n",
        "print(f\\\"Top {eig_k} eigenvalues: {eigenvals[:5]}\\\")\\n\\n",
        "# Placeholder tour: Sort by resonance overlap (simplified greedy)\\n",
        "tour = np.argsort(eigenvals)[-n:]  # Mock resonant order\\n",
        "tour_cost = np.sum(cdist(points[tour], points[np.roll(tour, -1)]))\\n",
        "print(f\\\"Mock tour cost: {tour_cost:.2f}\\\")\\n\\n",
        "# Plot\\n",
        "plt.scatter(points[:,0], points[:,1])\\n",
        "plt.plot(points[tour,0], points[tour,1], 'r-')\\n",
        "plt.title(\\\"Mock SRT TSP Tour\\\")\\n",
        "plt.show()\\n",
        "print(\\\"Demo TSP complete - full would use flow for 0% over opt\\\")"
      ]
    }
  ],
  "metadata": {
    "kernelspec": {
      "display_name": "Python 3",
      "language": "python",
      "name": "python3"
    },
    "language_info": {
      "codemirror_mode": {
        "name": "ipython",
        "version": 3
      },
      "file_extension": ".py",
      "mimetype": "text/x-python",
      "name": "python",
      "nbconvert_exporter": "python",
      "pygments_lexer": "ipython3",
      "version": "3.8.5"
    }
  },
  "nbformat": 4,
  "nbformat_minor": 4
}
